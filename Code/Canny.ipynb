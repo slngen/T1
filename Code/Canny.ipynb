{
 "cells": [
  {
   "cell_type": "code",
   "execution_count": 8,
   "metadata": {},
   "outputs": [],
   "source": [
    "import cv2\n",
    "import numpy as np\n",
    "\n",
    "# 读取图像\n",
    "image = cv2.imread(r'E:\\Code\\T1\\Data\\0_6.tif', cv2.IMREAD_GRAYSCALE)\n",
    "\n",
    "# 应用 Canny 边缘检测\n",
    "edges = cv2.Canny(image, 100, 200)\n",
    "\n",
    "# 创建一个核，用于形态学操作\n",
    "kernel = np.ones((5, 5), np.uint8)\n",
    "\n",
    "# 使用膨胀操作增加边缘宽度\n",
    "dilated_edges = cv2.dilate(edges, kernel, iterations=1)\n",
    "\n",
    "# 显示原始边缘和加宽边缘的结果\n",
    "cv2.imshow('Original Edges', edges)\n",
    "cv2.imshow('Dilated Edges', dilated_edges)\n",
    "\n",
    "cv2.waitKey(0)\n",
    "cv2.destroyAllWindows()"
   ]
  }
 ],
 "metadata": {
  "kernelspec": {
   "display_name": "base",
   "language": "python",
   "name": "python3"
  },
  "language_info": {
   "codemirror_mode": {
    "name": "ipython",
    "version": 3
   },
   "file_extension": ".py",
   "mimetype": "text/x-python",
   "name": "python",
   "nbconvert_exporter": "python",
   "pygments_lexer": "ipython3",
   "version": "3.10.9"
  },
  "orig_nbformat": 4
 },
 "nbformat": 4,
 "nbformat_minor": 2
}
